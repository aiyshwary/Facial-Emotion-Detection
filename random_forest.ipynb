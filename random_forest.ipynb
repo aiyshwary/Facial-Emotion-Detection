{
  "nbformat": 4,
  "nbformat_minor": 0,
  "metadata": {
    "colab": {
      "provenance": []
    },
    "kernelspec": {
      "name": "python3",
      "display_name": "Python 3"
    },
    "language_info": {
      "name": "python"
    }
  },
  "cells": [
    {
      "cell_type": "code",
      "source": [
        "from google.colab import drive\n",
        "drive.mount('/content/drive')"
      ],
      "metadata": {
        "colab": {
          "base_uri": "https://localhost:8080/"
        },
        "id": "gs1M37pvcrqc",
        "outputId": "e4e85833-316c-43b3-a729-9084fd69b51c"
      },
      "execution_count": null,
      "outputs": [
        {
          "output_type": "stream",
          "name": "stdout",
          "text": [
            "Mounted at /content/drive\n"
          ]
        }
      ]
    },
    {
      "cell_type": "code",
      "execution_count": null,
      "metadata": {
        "colab": {
          "base_uri": "https://localhost:8080/"
        },
        "id": "JLoMKkNdconT",
        "outputId": "90ba3a55-0b7c-4477-c899-fd2711a3679a"
      },
      "outputs": [
        {
          "output_type": "stream",
          "name": "stdout",
          "text": [
            "Train Accuracy: 0.9985022118499425\n",
            "icml_face_data Accuracy: 0.8926073508512832\n"
          ]
        }
      ],
      "source": [
        "import pandas as pd\n",
        "from sklearn.ensemble import RandomForestClassifier\n",
        "from sklearn.metrics import accuracy_score\n",
        "from sklearn.preprocessing import StandardScaler\n",
        "\n",
        "# Load the train dataset\n",
        "train_df = pd.read_csv(\"/content/drive/MyDrive/train.csv\")\n",
        "X_train = train_df['pixels']\n",
        "y_train = train_df['emotion']\n",
        "\n",
        "# Preprocess the data\n",
        "X_train = X_train.apply(lambda x: pd.Series(x.split(' ')).astype(float))\n",
        "scaler = StandardScaler()\n",
        "X_train_scaled = scaler.fit_transform(X_train)\n",
        "\n",
        "# Create and train the Random Forest classifier\n",
        "clf = RandomForestClassifier(n_estimators=100, random_state=42)\n",
        "clf.fit(X_train_scaled, y_train)\n",
        "\n",
        "# Load the test dataset\n",
        "test_df = pd.read_csv(\"/content/drive/MyDrive/test.csv\")\n",
        "X_test = test_df['pixels']\n",
        "\n",
        "# Preprocess the test data\n",
        "X_test = X_test.apply(lambda x: pd.Series(x.split(' ')).astype(float))\n",
        "X_test_scaled = scaler.transform(X_test)\n",
        "\n",
        "# Predict on the test dataset\n",
        "y_pred = clf.predict(X_test_scaled)\n",
        "\n",
        "# Calculate the accuracy of the model on training dataset\n",
        "train_accuracy = accuracy_score(y_train, clf.predict(X_train_scaled))\n",
        "print(\"Train Accuracy:\", train_accuracy)\n",
        "\n",
        "# Load the icml_face_data dataset\n",
        "icml_df = pd.read_csv(\"/content/drive/MyDrive/icml_face_data.csv\")\n",
        "X_icml = icml_df[' pixels']\n",
        "y_icml = icml_df['emotion']\n",
        "\n",
        "# Preprocess the icml_face_data\n",
        "X_icml = X_icml.apply(lambda x: pd.Series(x.split(' ')).astype(float))\n",
        "X_icml_scaled = scaler.transform(X_icml)\n",
        "\n",
        "# Predict on the icml_face_data dataset\n",
        "y_icml_pred = clf.predict(X_icml_scaled)\n",
        "\n",
        "# Calculate the accuracy of the model on icml_face_data dataset\n",
        "icml_accuracy = accuracy_score(y_icml, y_icml_pred)\n",
        "print(\"icml_face_data Accuracy:\", icml_accuracy)"
      ]
    },
    {
      "cell_type": "code",
      "source": [
        "import matplotlib.pyplot as plt\n",
        "\n",
        "# Define the accuracies\n",
        "accuracies = [train_accuracy, icml_accuracy]\n",
        "\n",
        "# Define the datasets\n",
        "datasets = ['Train', 'icml_face_data']\n",
        "\n",
        "# Create a bar plot\n",
        "plt.bar(datasets, accuracies)\n",
        "plt.xlabel('Dataset')\n",
        "plt.ylabel('Accuracy')\n",
        "plt.title('Accuracy on Different Datasets')\n",
        "\n",
        "# Add the accuracy values on top of the bars\n",
        "for i, accuracy in enumerate(accuracies):\n",
        "    plt.text(i, accuracy, f'{accuracy:.2f}', ha='center', va='bottom')\n",
        "\n",
        "# Show the plot\n",
        "plt.show()\n",
        "\n"
      ],
      "metadata": {
        "colab": {
          "base_uri": "https://localhost:8080/",
          "height": 472
        },
        "id": "FlcboTK9OtL3",
        "outputId": "ec7fab1b-74d8-4140-dcec-baf494e679e9"
      },
      "execution_count": null,
      "outputs": [
        {
          "output_type": "display_data",
          "data": {
            "text/plain": [
              "<Figure size 640x480 with 1 Axes>"
            ],
            "image/png": "[encoded data removed]"
          },
          "metadata": {}
        }
      ]
    },
    {
      "cell_type": "code",
      "source": [],
      "metadata": {
        "id": "wVBDb0G154w8"
      },
      "execution_count": null,
      "outputs": []
    }
  ]
}