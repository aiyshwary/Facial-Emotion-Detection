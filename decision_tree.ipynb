{
  "nbformat": 4,
  "nbformat_minor": 0,
  "metadata": {
    "colab": {
      "provenance": [],
      "gpuType": "T4"
    },
    "kernelspec": {
      "name": "python3",
      "display_name": "Python 3"
    },
    "language_info": {
      "name": "python"
    },
    "accelerator": "GPU"
  },
  "cells": [
    {
      "cell_type": "code",
      "source": [
        "from google.colab import drive\n",
        "drive.mount('/content/drive')"
      ],
      "metadata": {
        "colab": {
          "base_uri": "https://localhost:8080/"
        },
        "id": "y7spyu05YSFE",
        "outputId": "444b44e3-1e99-475e-f134-5795b24d620d"
      },
      "execution_count": null,
      "outputs": [
        {
          "output_type": "stream",
          "name": "stdout",
          "text": [
            "Mounted at /content/drive\n"
          ]
        }
      ]
    },
    {
      "cell_type": "markdown",
      "source": [
        "df_train = pd.read_csv(\"/content/drive/MyDrive/train.csv\")\n",
        "df_test = pd.read_csv(\"/content/drive/MyDrive/test.csv\")"
      ],
      "metadata": {
        "id": "4Fjp99mYPQLI"
      }
    },
    {
      "cell_type": "code",
      "execution_count": null,
      "metadata": {
        "colab": {
          "base_uri": "https://localhost:8080/"
        },
        "id": "wVe_zJrZYMRg",
        "outputId": "fdc2ce01-e531-484d-9f77-270af8cb89ec"
      },
      "outputs": [
        {
          "output_type": "stream",
          "name": "stdout",
          "text": [
            "Accuracy on training dataset: 0.9985022118499425\n",
            "Accuracy on icml_face_data dataset: 0.8616490651210745\n"
          ]
        }
      ],
      "source": [
        "import pandas as pd\n",
        "from sklearn.tree import DecisionTreeClassifier\n",
        "from sklearn.metrics import accuracy_score\n",
        "from sklearn.preprocessing import StandardScaler\n",
        "\n",
        "# Load the train dataset\n",
        "train_df = pd.read_csv(\"/content/drive/MyDrive/train.csv\")\n",
        "X_train = train_df['pixels'].apply(lambda x: pd.Series(x.split(' ')).astype(float))\n",
        "y_train = train_df['emotion']\n",
        "\n",
        "# Load the test dataset\n",
        "test_df = pd.read_csv(\"/content/drive/MyDrive/test.csv\")\n",
        "X_test = test_df['pixels'].apply(lambda x: pd.Series(x.split(' ')).astype(float))\n",
        "y_test = None  # Replace with the actual target labels if available\n",
        "\n",
        "# Load the icml_face_data dataset\n",
        "icml_df = pd.read_csv(\"/content/drive/MyDrive/icml_face_data.csv\")\n",
        "X_icml = icml_df[' pixels'].apply(lambda x: pd.Series(x.split(' ')).astype(float))\n",
        "y_icml = icml_df['emotion']\n",
        "\n",
        "# Preprocess the data\n",
        "scaler = StandardScaler()\n",
        "X_train_scaled = scaler.fit_transform(X_train)\n",
        "X_test_scaled = scaler.transform(X_test)\n",
        "X_icml_scaled = scaler.transform(X_icml)\n",
        "\n",
        "# Create and train the decision tree classifier\n",
        "clf = DecisionTreeClassifier()\n",
        "clf.fit(X_train_scaled, y_train)\n",
        "\n",
        "# Predict on the training dataset\n",
        "y_pred_train = clf.predict(X_train_scaled)\n",
        "accuracy_train = accuracy_score(y_train, y_pred_train)\n",
        "print(\"Accuracy on training dataset:\", accuracy_train)\n",
        "\n",
        "# Predict on the test dataset if available\n",
        "if y_test is not None:\n",
        "    y_pred_test = clf.predict(X_test_scaled)\n",
        "    accuracy_test = accuracy_score(y_test, y_pred_test)\n",
        "    print(\"Accuracy on test dataset:\", accuracy_test)\n",
        "\n",
        "# Predict on the icml_face_data dataset\n",
        "y_pred_icml = clf.predict(X_icml_scaled)\n",
        "accuracy_icml = accuracy_score(y_icml, y_pred_icml)\n",
        "print(\"Accuracy on icml_face_data dataset:\", accuracy_icml)"
      ]
    },
    {
      "cell_type": "markdown",
      "source": [
        "df_train = pd.read_csv(\"/content/drive/MyDrive/train.csv\")\n",
        "df_test = pd.read_csv(\"/content/drive/MyDrive/test.csv\")"
      ],
      "metadata": {
        "id": "VjxI5E0-X_FX"
      }
    },
    {
      "cell_type": "code",
      "source": [
        "import matplotlib.pyplot as plt\n",
        "\n",
        "# Define the dataset names and accuracies\n",
        "datasets = ['Training', 'icml_face_data']\n",
        "accuracies = [accuracy_train, accuracy_icml]\n",
        "\n",
        "# Create a bar plot\n",
        "plt.bar(datasets, accuracies)\n",
        "plt.xlabel('Dataset')\n",
        "plt.ylabel('Accuracy')\n",
        "plt.title('Accuracy on Different Datasets')\n",
        "\n",
        "# Add the accuracy values on top of the bars\n",
        "for i, accuracy in enumerate(accuracies):\n",
        "    plt.text(i, accuracy, f'{accuracy:.2f}', ha='center', va='bottom')\n",
        "\n",
        "# Show the plot\n",
        "plt.show()\n"
      ],
      "metadata": {
        "id": "8URnqfOAY4Mq",
        "colab": {
          "base_uri": "https://localhost:8080/",
          "height": 472
        },
        "outputId": "04d0bad6-5eda-4fd6-d0c2-b1ed49d2f572"
      },
      "execution_count": null,
      "outputs": [
        {
          "output_type": "display_data",
          "data": {
            "text/plain": [
              "<Figure size 640x480 with 1 Axes>"
            ],
            "image/png": "[encoded data removed]"
          },
          "metadata": {}
        }
      ]
    },
    {
      "cell_type": "code",
      "source": [],
      "metadata": {
        "id": "yWekj6fhV2P4"
      },
      "execution_count": null,
      "outputs": []
    }
  ]
}