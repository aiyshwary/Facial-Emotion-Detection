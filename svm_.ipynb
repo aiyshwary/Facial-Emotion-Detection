{
  "nbformat": 4,
  "nbformat_minor": 0,
  "metadata": {
    "colab": {
      "provenance": [],
      "gpuType": "T4"
    },
    "kernelspec": {
      "name": "python3",
      "display_name": "Python 3"
    },
    "language_info": {
      "name": "python"
    },
    "accelerator": "GPU"
  },
  "cells": [
    {
      "cell_type": "code",
      "source": [
        "# This Python 3 environment comes with many helpful analytics libraries installed\n",
        "# It is defined by the kaggle/python Docker image: https://github.com/kaggle/docker-python\n",
        "# For example, here's several helpful packages to load\n",
        "\n",
        "import numpy as np # linear algebra\n",
        "import pandas as pd # data processing, CSV file I/O (e.g. pd.read_csv)\n",
        "\n",
        "# Input data files are available in the read-only \"../input/\" directory\n",
        "# For example, running this (by clicking run or pressing Shift+Enter) will list all files under the input directory\n",
        "\n",
        "import os\n",
        "for dirname, _, filenames in os.walk('/kaggle/input'):\n",
        "    for filename in filenames:\n",
        "        print(os.path.join(dirname, filename))\n",
        "\n",
        "# You can write up to 20GB to the current directory (/kaggle/working/) that gets preserved as output when you create a version using \"Save & Run All\"\n",
        "# You can also write temporary files to /kaggle/temp/, but they won't be saved outside of the current session"
      ],
      "metadata": {
        "id": "_2DJyve2OXmc"
      },
      "execution_count": null,
      "outputs": []
    },
    {
      "cell_type": "code",
      "execution_count": null,
      "metadata": {
        "id": "6K4SVY43OBDc"
      },
      "outputs": [],
      "source": [
        "import tensorflow as tf"
      ]
    },
    {
      "cell_type": "code",
      "source": [
        "tf.test.gpu_device_name()"
      ],
      "metadata": {
        "colab": {
          "base_uri": "https://localhost:8080/",
          "height": 36
        },
        "id": "-Od6sxAcOOxo",
        "outputId": "78f6fd8a-76ee-458d-dcb4-b942d138af85"
      },
      "execution_count": null,
      "outputs": [
        {
          "output_type": "execute_result",
          "data": {
            "text/plain": [
              "'/device:GPU:0'"
            ],
            "application/vnd.google.colaboratory.intrinsic+json": {
              "type": "string"
            }
          },
          "metadata": {},
          "execution_count": 3
        }
      ]
    },
    {
      "cell_type": "code",
      "source": [
        "from google.colab import drive\n",
        "drive.mount('/content/drive')"
      ],
      "metadata": {
        "colab": {
          "base_uri": "https://localhost:8080/"
        },
        "id": "l6y6GRJDOO31",
        "outputId": "c20f7823-f9f3-4884-9755-c8d1dc88b563"
      },
      "execution_count": null,
      "outputs": [
        {
          "output_type": "stream",
          "name": "stdout",
          "text": [
            "Mounted at /content/drive\n"
          ]
        }
      ]
    },
    {
      "cell_type": "code",
      "source": [
        "import pandas as pd\n",
        "from sklearn.model_selection import train_test_split\n",
        "from sklearn.preprocessing import StandardScaler\n",
        "from sklearn.decomposition import PCA\n",
        "from sklearn.svm import SVC\n",
        "from sklearn.metrics import accuracy_score\n",
        "import numpy as np\n",
        "\n",
        "# Load train.csv\n",
        "df_train = pd.read_csv(\"/content/drive/MyDrive/train.csv\")\n",
        "train_emotion = df_train['emotion']\n",
        "train_pixels = df_train['pixels']\n",
        "\n",
        "# Load test.csv\n",
        "df_test = pd.read_csv(\"/content/drive/MyDrive/test.csv\")\n",
        "test_pixels = df_test['pixels']\n",
        "\n",
        "# Load icml_face_data.csv\n",
        "df_icml = pd.read_csv(\"/content/drive/MyDrive/icml_face_data.csv\")\n",
        "icml_emotion = df_icml['emotion']\n",
        "icml_pixels = df_icml[' pixels']\n",
        "icml_usage = df_icml[' Usage']\n",
        "\n",
        "# Convert string pixels to numeric values\n",
        "train_pixels = train_pixels.apply(lambda x: np.array(x.split(), dtype=float))\n",
        "test_pixels = test_pixels.apply(lambda x: np.array(x.split(), dtype=float))\n",
        "icml_pixels = icml_pixels.apply(lambda x: np.array(x.split(), dtype=float))\n",
        "\n",
        "# Split the train data into training and validation sets\n",
        "train_pixels, val_pixels, train_emotion, val_emotion = train_test_split(train_pixels, train_emotion, test_size=0.2, random_state=42)\n",
        "\n",
        "# Perform feature scaling\n",
        "scaler = StandardScaler()\n",
        "train_pixels = scaler.fit_transform(train_pixels.tolist())\n",
        "val_pixels = scaler.transform(val_pixels.tolist())\n",
        "test_pixels = scaler.transform(test_pixels.tolist())\n",
        "icml_pixels = scaler.transform(icml_pixels.tolist())\n",
        "\n",
        "# Reduce dimensionality using PCA\n",
        "pca = PCA(n_components=0.95)\n",
        "train_pixels = pca.fit_transform(train_pixels)\n",
        "val_pixels = pca.transform(val_pixels)\n",
        "test_pixels = pca.transform(test_pixels)\n",
        "icml_pixels = pca.transform(icml_pixels)\n",
        "\n",
        "# Create and train the SVM model\n",
        "svm = SVC()\n",
        "svm.fit(train_pixels, train_emotion)\n",
        "\n",
        "# Evaluate the model on the validation set\n",
        "val_predictions = svm.predict(val_pixels)\n",
        "accuracy = accuracy_score(val_emotion, val_predictions)\n",
        "print(\"Validation Accuracy:\", accuracy)\n",
        "\n",
        "# Make predictions on the test set\n",
        "test_predictions = svm.predict(test_pixels)\n",
        "\n",
        "# Make predictions on the icml dataset\n",
        "icml_predictions = svm.predict(icml_pixels)"
      ],
      "metadata": {
        "colab": {
          "base_uri": "https://localhost:8080/"
        },
        "id": "zeL5PFShOPVo",
        "outputId": "986e65ab-53e0-4052-a0fe-0901a419d3ed"
      },
      "execution_count": null,
      "outputs": [
        {
          "output_type": "stream",
          "name": "stdout",
          "text": [
            "Validation Accuracy: 0.4327760362243121\n"
          ]
        }
      ]
    },
    {
      "cell_type": "code",
      "source": [
        "import matplotlib.pyplot as plt\n",
        "\n",
        "# Define the dataset names and accuracies\n",
        "datasets = ['Validation', 'icml_face_data']\n",
        "accuracies = [accuracy, accuracy_score(icml_emotion, icml_predictions)]\n",
        "\n",
        "# Create a bar plot\n",
        "plt.bar(datasets, accuracies)\n",
        "plt.xlabel('Dataset')\n",
        "plt.ylabel('Accuracy')\n",
        "plt.title('Accuracy of SVM Model on Different Datasets')\n",
        "\n",
        "# Add the accuracy values on top of the bars\n",
        "for i, accuracy in enumerate(accuracies):\n",
        "    plt.text(i, accuracy, f'{accuracy:.2f}', ha='center', va='bottom')\n",
        "\n",
        "# Show the plot\n",
        "plt.show()\n"
      ],
      "metadata": {
        "id": "Y-cjGXloEPIX",
        "colab": {
          "base_uri": "https://localhost:8080/",
          "height": 472
        },
        "outputId": "2b9342bb-5847-42c7-84ab-f05df0d42d89"
      },
      "execution_count": null,
      "outputs": [
        {
          "output_type": "display_data",
          "data": {
            "text/plain": [
              "<Figure size 640x480 with 1 Axes>"
            ],
            "image/png": "[encoded data removed]"
          },
          "metadata": {}
        }
      ]
    },
    {
      "cell_type": "code",
      "source": [],
      "metadata": {
        "id": "AGQ-I1OR35jX"
      },
      "execution_count": null,
      "outputs": []
    },
    {
      "cell_type": "code",
      "source": [],
      "metadata": {
        "id": "qWyBXZJMNkj4"
      },
      "execution_count": null,
      "outputs": []
    }
  ]
}